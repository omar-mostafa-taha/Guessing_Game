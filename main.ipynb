{
  "nbformat": 4,
  "nbformat_minor": 0,
  "metadata": {
    "colab": {
      "provenance": [],
      "authorship_tag": "ABX9TyOZljHWq8mgFXms20lvhOz+",
      "include_colab_link": true
    },
    "kernelspec": {
      "name": "python3",
      "display_name": "Python 3"
    },
    "language_info": {
      "name": "python"
    }
  },
  "cells": [
    {
      "cell_type": "markdown",
      "metadata": {
        "id": "view-in-github",
        "colab_type": "text"
      },
      "source": [
        "<a href=\"https://colab.research.google.com/github/omar-mostafa-taha/Guessing_Game/blob/main/main.ipynb\" target=\"_parent\"><img src=\"https://colab.research.google.com/assets/colab-badge.svg\" alt=\"Open In Colab\"/></a>"
      ]
    },
    {
      "cell_type": "code",
      "source": [
        "import random"
      ],
      "metadata": {
        "id": "HP0zIeSg1cBe"
      },
      "execution_count": 1,
      "outputs": []
    },
    {
      "cell_type": "code",
      "execution_count": 2,
      "metadata": {
        "id": "dyLaLJVUyDWd"
      },
      "outputs": [],
      "source": [
        "def game_level():\n",
        "  while True:\n",
        "    try:\n",
        "      ch = int(input('Choose game level(Enter a number)\\n\\t(1) Easy\\n\\t(2) Intermediate\\n\\t(3) Hard\\nYour choice: '))\n",
        "      if ch not in [1,2,3]:\n",
        "        print(\"Invalid choice please try again\")\n",
        "      else: \n",
        "        return ch;\n",
        "    except:\n",
        "      print(\"Please enter a number\")\n",
        "    \n",
        "      "
      ]
    },
    {
      "cell_type": "code",
      "source": [
        "def set_settings(x):\n",
        "  if x==1:\n",
        "    return (1,10),3\n",
        "  elif x==2:\n",
        "    return (1,100), 7\n",
        "  else:\n",
        "    return (1,1000),15"
      ],
      "metadata": {
        "id": "RqRv6YOgld-z"
      },
      "execution_count": 3,
      "outputs": []
    },
    {
      "cell_type": "code",
      "source": [
        "def play():\n",
        "  choice=game_level()\n",
        "  limits,num_trials=set_settings(choice)\n",
        "  print(f\"Guess a number between {limits[0]} and {limits[1]} , you have {num_trials} trials\")\n",
        "  rand_num=random.randint(limits[0],limits[1])\n",
        "  shots=0\n",
        "  while(num_trials):\n",
        "    try:\n",
        "      guess= int(input(\"Enter your guess: \"))\n",
        "      shots+=1\n",
        "      if rand_num==guess:\n",
        "          print(f'Congratulations, you achieved it in {shots} shots')\n",
        "          break\n",
        "      else:\n",
        "          num_trials-=1;\n",
        "          if num_trials==0:\n",
        "            print(\"You lost\")\n",
        "            print(f\"the number i was hiding is {rand_num} \")\n",
        "            break\n",
        "          if rand_num>guess:\n",
        "            print(f'wrong guess. the number is greater.\\nyour remaining trials is {num_trials}')  \n",
        "          else:\n",
        "            print(f'wrong guess. the number is lower.\\nyour remaining trials is {num_trials}') \n",
        "    except:\n",
        "      \n",
        "      print(\"please enter a number \")\n"
      ],
      "metadata": {
        "id": "NoR3QPCclsM4"
      },
      "execution_count": 4,
      "outputs": []
    },
    {
      "cell_type": "code",
      "source": [
        "print(\"\\t\\tWelcome\")\n",
        "keep_playing=1\n",
        "while(keep_playing):\n",
        "  play()\n",
        "  print(\"to keep playing press \\\"y\\\" and anything else to exit\")\n",
        "  if input()!='y':\n",
        "    keep_playing=0\n",
        "print(\"Thanks for playing\")"
      ],
      "metadata": {
        "colab": {
          "base_uri": "https://localhost:8080/"
        },
        "id": "i_B7oDoynbln",
        "outputId": "0ddd2e33-ddd1-41e4-a035-5cc039a82f79"
      },
      "execution_count": 5,
      "outputs": [
        {
          "output_type": "stream",
          "name": "stdout",
          "text": [
            "\t\tWelcome\n",
            "Choose game level(Enter a number)\n",
            "\t(1) Easy\n",
            "\t(2) Intermediate\n",
            "\t(3) Hard\n",
            "Your choice: 3\n",
            "Guess a number between 1 and 1000 , you have 15 trials\n",
            "Enter your guess: 500\n",
            "wrong guess. the number is lower.\n",
            "your remaining trials is 14\n",
            "Enter your guess: 250\n",
            "wrong guess. the number is greater.\n",
            "your remaining trials is 13\n",
            "Enter your guess: 375\n",
            "wrong guess. the number is lower.\n",
            "your remaining trials is 12\n",
            "Enter your guess: 312\n",
            "wrong guess. the number is lower.\n",
            "your remaining trials is 11\n",
            "Enter your guess: 281\n",
            "wrong guess. the number is lower.\n",
            "your remaining trials is 10\n",
            "Enter your guess: 265\n",
            "wrong guess. the number is lower.\n",
            "your remaining trials is 9\n",
            "Enter your guess: 260\n",
            "wrong guess. the number is lower.\n",
            "your remaining trials is 8\n",
            "Enter your guess: 258\n",
            "wrong guess. the number is lower.\n",
            "your remaining trials is 7\n",
            "Enter your guess: 256\n",
            "Congratulations, you achieved it in 9 shots\n",
            "to keep playing press \"y\" and anything else to exit\n",
            "y\n",
            "Choose game level(Enter a number)\n",
            "\t(1) Easy\n",
            "\t(2) Intermediate\n",
            "\t(3) Hard\n",
            "Your choice: 2\n",
            "Guess a number between 1 and 100 , you have 7 trials\n",
            "Enter your guess: 50\n",
            "wrong guess. the number is greater.\n",
            "your remaining trials is 6\n",
            "Enter your guess: 75\n",
            "wrong guess. the number is lower.\n",
            "your remaining trials is 5\n",
            "Enter your guess: 63\n",
            "wrong guess. the number is greater.\n",
            "your remaining trials is 4\n",
            "Enter your guess: 64\n",
            "wrong guess. the number is greater.\n",
            "your remaining trials is 3\n",
            "Enter your guess: 65\n",
            "Congratulations, you achieved it in 5 shots\n",
            "to keep playing press \"y\" and anything else to exit\n",
            "h\n",
            "Thanks for playing\n"
          ]
        }
      ]
    },
    {
      "cell_type": "code",
      "source": [
        "\n"
      ],
      "metadata": {
        "id": "DO-YJdEWnloR"
      },
      "execution_count": 5,
      "outputs": []
    }
  ]
}